{
 "cells": [
  {
   "cell_type": "code",
   "execution_count": 1,
   "metadata": {},
   "outputs": [
    {
     "ename": "ModuleNotFoundError",
     "evalue": "No module named 'mpl_toolkits.basemap'",
     "output_type": "error",
     "traceback": [
      "\u001b[1;31m---------------------------------------------------------------------------\u001b[0m",
      "\u001b[1;31mModuleNotFoundError\u001b[0m                       Traceback (most recent call last)",
      "\u001b[1;32m<ipython-input-1-db2649dcf0a1>\u001b[0m in \u001b[0;36m<module>\u001b[1;34m\u001b[0m\n\u001b[0;32m      2\u001b[0m \u001b[1;32mimport\u001b[0m \u001b[0mnumpy\u001b[0m \u001b[1;32mas\u001b[0m \u001b[0mnp\u001b[0m\u001b[1;33m\u001b[0m\u001b[1;33m\u001b[0m\u001b[0m\n\u001b[0;32m      3\u001b[0m \u001b[1;32mimport\u001b[0m \u001b[0mmatplotlib\u001b[0m\u001b[1;33m.\u001b[0m\u001b[0mpyplot\u001b[0m \u001b[1;32mas\u001b[0m \u001b[0mplt\u001b[0m\u001b[1;33m\u001b[0m\u001b[1;33m\u001b[0m\u001b[0m\n\u001b[1;32m----> 4\u001b[1;33m \u001b[1;32mfrom\u001b[0m \u001b[0mmpl_toolkits\u001b[0m\u001b[1;33m.\u001b[0m\u001b[0mbasemap\u001b[0m \u001b[1;32mimport\u001b[0m \u001b[0mBasemap\u001b[0m\u001b[1;33m\u001b[0m\u001b[1;33m\u001b[0m\u001b[0m\n\u001b[0m",
      "\u001b[1;31mModuleNotFoundError\u001b[0m: No module named 'mpl_toolkits.basemap'"
     ]
    }
   ],
   "source": [
    " %matplotlib inline\n",
    "import numpy as np\n",
    "import matplotlib.pyplot as plt\n",
    "from mpl_toolkits.basemap import Basemap"
   ]
  },
  {
   "cell_type": "code",
   "execution_count": 3,
   "metadata": {},
   "outputs": [],
   "source": [
    "import pandas as pd\n",
    "cities = pd.read_csv('california_cities.csv')\n",
    "# Extract the data we're interested in\n",
    "lat = cities['latd'].values\n",
    "lon = cities['longd'].values\n",
    "population = cities['population_total'].values\n",
    "area = cities['area_total_km2'].values"
   ]
  },
  {
   "cell_type": "code",
   "execution_count": 4,
   "metadata": {},
   "outputs": [
    {
     "data": {
      "text/plain": [
       "<bound method NDFrame.head of      Unnamed: 0  Unnamed: 0.1         city       latd       longd  \\\n",
       "0             0             0     Adelanto  34.576111 -117.432778   \n",
       "1             1             1  AgouraHills  34.153333 -118.761667   \n",
       "2             2             2      Alameda  37.756111 -122.274444   \n",
       "3             3             3       Albany  37.886944 -122.297778   \n",
       "4             4             4     Alhambra  34.081944 -118.135000   \n",
       "..          ...           ...          ...        ...         ...   \n",
       "477         477           477   Yountville  38.403056 -122.362222   \n",
       "478         478           478        Yreka  41.726667 -122.637500   \n",
       "479         479           479     YubaCity  39.134722 -121.626111   \n",
       "480         480           480      Yucaipa  34.030278 -117.048611   \n",
       "481         481           481  YuccaValley  34.133333 -116.416667   \n",
       "\n",
       "     elevation_m  elevation_ft  population_total  area_total_sq_mi  \\\n",
       "0          875.0        2871.0             31765            56.027   \n",
       "1          281.0         922.0             20330             7.822   \n",
       "2            NaN          33.0             75467            22.960   \n",
       "3            NaN          43.0             18969             5.465   \n",
       "4          150.0         492.0             83089             7.632   \n",
       "..           ...           ...               ...               ...   \n",
       "477         30.0          98.0              2933             1.531   \n",
       "478        787.0        2582.0              7765            10.053   \n",
       "479         18.0          59.0             64925            14.656   \n",
       "480        798.0        2618.0             51367            27.893   \n",
       "481       1027.0        3369.0             20700            40.015   \n",
       "\n",
       "     area_land_sq_mi  area_water_sq_mi  area_total_km2  area_land_km2  \\\n",
       "0             56.009             0.018         145.107        145.062   \n",
       "1              7.793             0.029          20.260         20.184   \n",
       "2             10.611            12.349          59.465         27.482   \n",
       "3              1.788             3.677          14.155          4.632   \n",
       "4              7.631             0.001          19.766         19.763   \n",
       "..               ...               ...             ...            ...   \n",
       "477            1.531             0.000           3.966          3.966   \n",
       "478            9.980             0.073          26.036         25.847   \n",
       "479           14.578             0.078          37.959         37.758   \n",
       "480           27.888             0.005          72.244         72.231   \n",
       "481           40.015             0.000         103.639        103.639   \n",
       "\n",
       "     area_water_km2  area_water_percent  \n",
       "0             0.046                0.03  \n",
       "1             0.076                0.37  \n",
       "2            31.983               53.79  \n",
       "3             9.524               67.28  \n",
       "4             0.003                0.01  \n",
       "..              ...                 ...  \n",
       "477           0.000                0.00  \n",
       "478           0.188                0.72  \n",
       "479           0.201                0.53  \n",
       "480           0.013                0.02  \n",
       "481           0.000                0.00  \n",
       "\n",
       "[482 rows x 15 columns]>"
      ]
     },
     "execution_count": 4,
     "metadata": {},
     "output_type": "execute_result"
    }
   ],
   "source": [
    "cities.head"
   ]
  },
  {
   "cell_type": "code",
   "execution_count": 6,
   "metadata": {},
   "outputs": [
    {
     "ename": "NameError",
     "evalue": "name 'Basemap' is not defined",
     "output_type": "error",
     "traceback": [
      "\u001b[1;31m---------------------------------------------------------------------------\u001b[0m",
      "\u001b[1;31mNameError\u001b[0m                                 Traceback (most recent call last)",
      "\u001b[1;32m<ipython-input-6-7084ad86c734>\u001b[0m in \u001b[0;36m<module>\u001b[1;34m\u001b[0m\n\u001b[0;32m      1\u001b[0m \u001b[1;31m# 1. Draw the map background\u001b[0m\u001b[1;33m\u001b[0m\u001b[1;33m\u001b[0m\u001b[1;33m\u001b[0m\u001b[0m\n\u001b[0;32m      2\u001b[0m \u001b[0mfig\u001b[0m \u001b[1;33m=\u001b[0m \u001b[0mplt\u001b[0m\u001b[1;33m.\u001b[0m\u001b[0mfigure\u001b[0m\u001b[1;33m(\u001b[0m\u001b[0mfigsize\u001b[0m\u001b[1;33m=\u001b[0m\u001b[1;33m(\u001b[0m\u001b[1;36m8\u001b[0m\u001b[1;33m,\u001b[0m \u001b[1;36m8\u001b[0m\u001b[1;33m)\u001b[0m\u001b[1;33m)\u001b[0m\u001b[1;33m\u001b[0m\u001b[1;33m\u001b[0m\u001b[0m\n\u001b[1;32m----> 3\u001b[1;33m m = Basemap(projection='lcc', resolution='h',lat_0=37.5, lon_0=-119,\n\u001b[0m\u001b[0;32m      4\u001b[0m    width=1E6, height=1.2E6)\n\u001b[0;32m      5\u001b[0m \u001b[0mm\u001b[0m\u001b[1;33m.\u001b[0m\u001b[0mshadedrelief\u001b[0m\u001b[1;33m(\u001b[0m\u001b[1;33m)\u001b[0m\u001b[1;33m\u001b[0m\u001b[1;33m\u001b[0m\u001b[0m\n",
      "\u001b[1;31mNameError\u001b[0m: name 'Basemap' is not defined"
     ]
    },
    {
     "data": {
      "text/plain": [
       "<Figure size 576x576 with 0 Axes>"
      ]
     },
     "metadata": {},
     "output_type": "display_data"
    }
   ],
   "source": [
    " # 1. Draw the map background\n",
    "fig = plt.figure(figsize=(8, 8))\n",
    "m = Basemap(projection='lcc', resolution='h',lat_0=37.5, lon_0=-119,\n",
    "    width=1E6, height=1.2E6)\n",
    "m.shadedrelief()\n",
    "m.drawcoastlines(color='gray')\n",
    "m.drawcountries(color='gray')\n",
    "m.drawstates(color='gray')\n",
    "# 2. scatter city data, with color reflecting population\n",
    "# and size reflecting area\n",
    "m.scatter(lon, lat, latlon=True,\n",
    "c=np.log10(population), s=area,\n",
    "cmap='Reds', alpha=0.5)\n",
    "# 3. create colorbar and legend\n",
    "plt.colorbar(label=r'$\\log_{10}({\\rm population})$')\n",
    "plt.clim(3, 7)\n",
    "# make legend with dummy points\n",
    "for a in [100, 300, 500]:\n",
    "    plt.scatter([], [], c='k', alpha=0.5, s=a,\n",
    "    label=str(a) + ' km$^2$')\n",
    "plt.legend(scatterpoints=1, frameon=False,\n",
    "labelspacing=1, loc='lower left');"
   ]
  },
  {
   "cell_type": "code",
   "execution_count": null,
   "metadata": {},
   "outputs": [],
   "source": []
  }
 ],
 "metadata": {
  "kernelspec": {
   "display_name": "Python 3",
   "language": "python",
   "name": "python3"
  },
  "language_info": {
   "codemirror_mode": {
    "name": "ipython",
    "version": 3
   },
   "file_extension": ".py",
   "mimetype": "text/x-python",
   "name": "python",
   "nbconvert_exporter": "python",
   "pygments_lexer": "ipython3",
   "version": "3.8.5"
  }
 },
 "nbformat": 4,
 "nbformat_minor": 4
}
